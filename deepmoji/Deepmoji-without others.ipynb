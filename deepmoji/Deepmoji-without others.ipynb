{
 "cells": [
  {
   "cell_type": "code",
   "execution_count": 1,
   "metadata": {},
   "outputs": [],
   "source": [
    "import numpy as np\n",
    "import pandas as pd\n",
    "from ekphrasis.classes.preprocessor import TextPreProcessor\n",
    "from ekphrasis.classes.tokenizer import SocialTokenizer\n",
    "from ekphrasis.dicts.emoticons import emoticons\n",
    "import matplotlib.pyplot as plt\n",
    "\n",
    "from sys import path as pylib #im naming it as pylib so that we won't get confused between os.path and sys.path \n",
    "import os\n",
    "pylib += [os.path.abspath(r'/home/Jay/Notebooks/Group9_emotion_detection/torchMoji')]"
   ]
  },
  {
   "cell_type": "code",
   "execution_count": 2,
   "metadata": {},
   "outputs": [],
   "source": [
    "data = pd.read_csv('../../deepmoji/data/train.txt', sep = '\\t')"
   ]
  },
  {
   "cell_type": "code",
   "execution_count": 3,
   "metadata": {},
   "outputs": [
    {
     "name": "stdout",
     "output_type": "stream",
     "text": [
      "Reading twitter - 1grams ...\n",
      "Reading twitter - 2grams ...\n",
      "Reading twitter - 1grams ...\n"
     ]
    }
   ],
   "source": [
    "label2emotion = {0: \"others\", 1: \"happy\", 2: \"sad\", 3: \"angry\"}\n",
    "emotion2label = {\"others\": 0, \"happy\": 1, \"sad\": 2, \"angry\": 3}\n",
    "\n",
    "emoticons_additional = {\n",
    "    '(^・^)': '<happy>', ':‑c': '<sad>', '=‑d': '<happy>', \":'‑)\": '<happy>', ':‑d': '<laugh>',\n",
    "    ':‑(': '<sad>', ';‑)': '<happy>', ':‑)': '<happy>', ':\\\\/': '<sad>', 'd=<': '<annoyed>',\n",
    "    ':‑/': '<annoyed>', ';‑]': '<happy>', '(^�^)': '<happy>', 'angru': 'angry', \"d‑':\":\n",
    "        '<annoyed>', \":'‑(\": '<sad>', \":‑[\": '<annoyed>', '(�?�)': '<happy>', 'x‑d': '<laugh>',\n",
    "}\n",
    "\n",
    "text_processor = TextPreProcessor(\n",
    "    # terms that will be normalized\n",
    "    normalize=['url', 'email', 'percent', 'money', 'phone', 'user',\n",
    "               'time', 'url', 'date', 'number'],\n",
    "    # terms that will be annotated\n",
    "    annotate={\"hashtag\", \"allcaps\", \"elongated\", \"repeated\",\n",
    "              'emphasis', 'censored'},\n",
    "    fix_html=True,  # fix HTML tokens\n",
    "    # corpus from which the word statistics are going to be used \n",
    "    # for word segmentation \n",
    "    segmenter=\"twitter\",\n",
    "    # corpus from which the word statistics are going to be used \n",
    "    # for spell correction\n",
    "    corrector=\"twitter\",\n",
    "    unpack_hashtags=True,  # perform word segmentation on hashtags\n",
    "    unpack_contractions=True,  # Unpack contractions (can't -> can not)\n",
    "    spell_correct_elong=True,  # spell correction for elongated words\n",
    "    # select a tokenizer. You can use SocialTokenizer, or pass your own\n",
    "    # the tokenizer, should take as input a string and return a list of tokens\n",
    "    tokenizer=SocialTokenizer(lowercase=True).tokenize,\n",
    "    # list of dictionaries, for replacing tokens extracted from the text,\n",
    "    # with other expressions. You can pass more than one dictionaries.\n",
    "    dicts=[emoticons, emoticons_additional]\n",
    ")\n",
    "\n",
    "\n",
    "def tokenize(text):\n",
    "    text = \" \".join(text_processor.pre_process_doc(text))\n",
    "    return text"
   ]
  },
  {
   "cell_type": "markdown",
   "metadata": {},
   "source": [
    "### Load raw data"
   ]
  },
  {
   "cell_type": "code",
   "execution_count": 4,
   "metadata": {},
   "outputs": [],
   "source": [
    "x1=[]\n",
    "x2=[]\n",
    "x3=[]\n",
    "y=[]\n",
    "labels={}\n",
    "i=0\n",
    "for ind, row in data.iterrows():\n",
    "    y.append(emotion2label[row['label']])\n",
    "    x1.append(tokenize(row['turn1']))\n",
    "    x2.append(tokenize(row['turn2']))\n",
    "    x3.append(tokenize(row['turn3']))"
   ]
  },
  {
   "cell_type": "code",
   "execution_count": 5,
   "metadata": {},
   "outputs": [],
   "source": [
    "test_data = pd.read_csv('../../deepmoji/data/test.txt', sep = '\\t')\n",
    "test_x1=[]\n",
    "test_x2=[]\n",
    "test_x3=[]\n",
    "test_y_all=[]\n",
    "test_labels={}\n",
    "i=0\n",
    "for ind, row in test_data.iterrows():\n",
    "    test_y_all.append(emotion2label[row['label']])\n",
    "    test_x1.append(tokenize(row['turn1']))\n",
    "    test_x2.append(tokenize(row['turn2']))\n",
    "    test_x3.append(tokenize(row['turn3']))"
   ]
  },
  {
   "cell_type": "code",
   "execution_count": 6,
   "metadata": {},
   "outputs": [],
   "source": [
    "from __future__ import print_function, division, unicode_literals\n",
    "import json\n",
    "\n",
    "from torchmoji.sentence_tokenizer import SentenceTokenizer\n",
    "from torchmoji.model_def import torchmoji_feature_encoding\n",
    "from torchmoji.model_def import torchmoji_emojis\n",
    "from torchmoji.global_variables import PRETRAINED_PATH, VOCAB_PATH\n",
    "\n",
    "def encode_deepmoji(x):\n",
    "    maxlen = 30\n",
    "    batch_size = 32\n",
    "\n",
    "    print('Tokenizing using dictionary from {}'.format(VOCAB_PATH))\n",
    "    with open(VOCAB_PATH, 'r') as f:\n",
    "        vocabulary = json.load(f)\n",
    "    st = SentenceTokenizer(vocabulary, maxlen)\n",
    "    tokenized, _, _ = st.tokenize_sentences(x)\n",
    "    print('Loading model from {}.'.format(PRETRAINED_PATH))\n",
    "    model = torchmoji_feature_encoding(PRETRAINED_PATH)\n",
    "    print(model)\n",
    "    print('Encoding texts..')\n",
    "    encoding = np.zeros((len(x), 2304))\n",
    "    for i in range(0, len(x), 300):    \n",
    "        encoding[i:i+300] = model(tokenized[i:i+300])\n",
    "    return encoding\n",
    "\n",
    "def encode_emoji(x):\n",
    "    model = torchmoji_emojis(PRETRAINED_PATH)\n",
    "    maxlen = 30\n",
    "    batch_size = 32\n",
    "\n",
    "    print('Tokenizing using dictionary from {}'.format(VOCAB_PATH))\n",
    "    with open(VOCAB_PATH, 'r') as f:\n",
    "        vocabulary = json.load(f)\n",
    "    st = SentenceTokenizer(vocabulary, maxlen)\n",
    "    tokenized, _, _ = st.tokenize_sentences(x)\n",
    "    print('Loading model from {}.'.format(PRETRAINED_PATH))\n",
    "    print(model)\n",
    "    print('Running predictions.')\n",
    "    \n",
    "    encoding = np.zeros((len(x), 64))\n",
    "    for i in range(0, len(x), 300):    \n",
    "        encoding[i:i+300] = model(tokenized[i:i+300])\n",
    "    return encoding"
   ]
  },
  {
   "cell_type": "code",
   "execution_count": 7,
   "metadata": {},
   "outputs": [],
   "source": [
    "x1_vec = np.load('../../dm_emb/deepmoji_train_x1.npy')\n",
    "x2_vec = np.load('../../dm_emb/deepmoji_train_x2.npy')\n",
    "x3_vec = np.load('../../dm_emb/deepmoji_train_x3.npy')"
   ]
  },
  {
   "cell_type": "code",
   "execution_count": 8,
   "metadata": {},
   "outputs": [],
   "source": [
    "deepmoji_train_all = np.c_[x1_vec,x2_vec,x3_vec]"
   ]
  },
  {
   "cell_type": "code",
   "execution_count": 9,
   "metadata": {},
   "outputs": [],
   "source": [
    "test_x1_vec = np.load('../../dm_emb/deepmoji_test_x1.npy')\n",
    "test_x2_vec = np.load('../../dm_emb/deepmoji_test_x2.npy')\n",
    "test_x3_vec = np.load('../../dm_emb/deepmoji_test_x3.npy')"
   ]
  },
  {
   "cell_type": "code",
   "execution_count": 26,
   "metadata": {},
   "outputs": [],
   "source": [
    "deepmoji_test_all = np.c_[np.array(test_x1_vec),np.array(test_x2_vec),np.array(test_x3_vec)]"
   ]
  },
  {
   "cell_type": "markdown",
   "metadata": {},
   "source": [
    "### Encode deepmoji"
   ]
  },
  {
   "cell_type": "code",
   "execution_count": 37,
   "metadata": {},
   "outputs": [
    {
     "name": "stdout",
     "output_type": "stream",
     "text": [
      "Tokenizing using dictionary from /home/Jay/Notebooks/Group9_emotion_detection/torchMoji/model/vocabulary.json\n",
      "Loading model from /home/Jay/Notebooks/Group9_emotion_detection/torchMoji/model/pytorch_model.bin.\n",
      "TorchMoji(\n",
      "  (embed): Embedding(50000, 256)\n",
      "  (embed_dropout): Dropout2d(p=0)\n",
      "  (lstm_0): LSTMHardSigmoid(256, 512, batch_first=True, bidirectional=True)\n",
      "  (lstm_1): LSTMHardSigmoid(1024, 512, batch_first=True, bidirectional=True)\n",
      "  (attention_layer): Attention(2304, return attention=False)\n",
      "  (final_dropout): Dropout(p=0)\n",
      "  (output_layer): Sequential(\n",
      "    (0): Linear(in_features=2304, out_features=64, bias=True)\n",
      "    (1): Softmax()\n",
      "  )\n",
      ")\n",
      "Running predictions.\n"
     ]
    },
    {
     "name": "stderr",
     "output_type": "stream",
     "text": [
      "/home/Jay/dev32/lib/python3.5/site-packages/torch/nn/modules/container.py:67: UserWarning: Implicit dimension choice for softmax has been deprecated. Change the call to include dim=X as an argument.\n",
      "  input = module(input)\n"
     ]
    }
   ],
   "source": [
    "x1_emoji = encode_emoji(x1)"
   ]
  },
  {
   "cell_type": "code",
   "execution_count": 38,
   "metadata": {},
   "outputs": [
    {
     "name": "stdout",
     "output_type": "stream",
     "text": [
      "Tokenizing using dictionary from /home/Jay/Notebooks/Group9_emotion_detection/torchMoji/model/vocabulary.json\n",
      "Loading model from /home/Jay/Notebooks/Group9_emotion_detection/torchMoji/model/pytorch_model.bin.\n",
      "TorchMoji(\n",
      "  (embed): Embedding(50000, 256)\n",
      "  (embed_dropout): Dropout2d(p=0)\n",
      "  (lstm_0): LSTMHardSigmoid(256, 512, batch_first=True, bidirectional=True)\n",
      "  (lstm_1): LSTMHardSigmoid(1024, 512, batch_first=True, bidirectional=True)\n",
      "  (attention_layer): Attention(2304, return attention=False)\n",
      "  (final_dropout): Dropout(p=0)\n",
      "  (output_layer): Sequential(\n",
      "    (0): Linear(in_features=2304, out_features=64, bias=True)\n",
      "    (1): Softmax()\n",
      "  )\n",
      ")\n",
      "Running predictions.\n"
     ]
    }
   ],
   "source": [
    "x2_emoji = encode_emoji(x2)"
   ]
  },
  {
   "cell_type": "code",
   "execution_count": 39,
   "metadata": {},
   "outputs": [
    {
     "name": "stdout",
     "output_type": "stream",
     "text": [
      "Tokenizing using dictionary from /home/Jay/Notebooks/Group9_emotion_detection/torchMoji/model/vocabulary.json\n",
      "Loading model from /home/Jay/Notebooks/Group9_emotion_detection/torchMoji/model/pytorch_model.bin.\n",
      "TorchMoji(\n",
      "  (embed): Embedding(50000, 256)\n",
      "  (embed_dropout): Dropout2d(p=0)\n",
      "  (lstm_0): LSTMHardSigmoid(256, 512, batch_first=True, bidirectional=True)\n",
      "  (lstm_1): LSTMHardSigmoid(1024, 512, batch_first=True, bidirectional=True)\n",
      "  (attention_layer): Attention(2304, return attention=False)\n",
      "  (final_dropout): Dropout(p=0)\n",
      "  (output_layer): Sequential(\n",
      "    (0): Linear(in_features=2304, out_features=64, bias=True)\n",
      "    (1): Softmax()\n",
      "  )\n",
      ")\n",
      "Running predictions.\n"
     ]
    }
   ],
   "source": [
    "x3_emoji = encode_emoji(x3)"
   ]
  },
  {
   "cell_type": "code",
   "execution_count": 40,
   "metadata": {},
   "outputs": [],
   "source": [
    "emoji_train_all = np.c_[x1_emoji, x2_emoji, x3_emoji]"
   ]
  },
  {
   "cell_type": "code",
   "execution_count": 42,
   "metadata": {},
   "outputs": [
    {
     "name": "stdout",
     "output_type": "stream",
     "text": [
      "Tokenizing using dictionary from /home/Jay/Notebooks/Group9_emotion_detection/torchMoji/model/vocabulary.json\n",
      "Loading model from /home/Jay/Notebooks/Group9_emotion_detection/torchMoji/model/pytorch_model.bin.\n",
      "TorchMoji(\n",
      "  (embed): Embedding(50000, 256)\n",
      "  (embed_dropout): Dropout2d(p=0)\n",
      "  (lstm_0): LSTMHardSigmoid(256, 512, batch_first=True, bidirectional=True)\n",
      "  (lstm_1): LSTMHardSigmoid(1024, 512, batch_first=True, bidirectional=True)\n",
      "  (attention_layer): Attention(2304, return attention=False)\n",
      "  (final_dropout): Dropout(p=0)\n",
      "  (output_layer): Sequential(\n",
      "    (0): Linear(in_features=2304, out_features=64, bias=True)\n",
      "    (1): Softmax()\n",
      "  )\n",
      ")\n",
      "Running predictions.\n",
      "Tokenizing using dictionary from /home/Jay/Notebooks/Group9_emotion_detection/torchMoji/model/vocabulary.json\n",
      "Loading model from /home/Jay/Notebooks/Group9_emotion_detection/torchMoji/model/pytorch_model.bin.\n",
      "TorchMoji(\n",
      "  (embed): Embedding(50000, 256)\n",
      "  (embed_dropout): Dropout2d(p=0)\n",
      "  (lstm_0): LSTMHardSigmoid(256, 512, batch_first=True, bidirectional=True)\n",
      "  (lstm_1): LSTMHardSigmoid(1024, 512, batch_first=True, bidirectional=True)\n",
      "  (attention_layer): Attention(2304, return attention=False)\n",
      "  (final_dropout): Dropout(p=0)\n",
      "  (output_layer): Sequential(\n",
      "    (0): Linear(in_features=2304, out_features=64, bias=True)\n",
      "    (1): Softmax()\n",
      "  )\n",
      ")\n",
      "Running predictions.\n",
      "Tokenizing using dictionary from /home/Jay/Notebooks/Group9_emotion_detection/torchMoji/model/vocabulary.json\n",
      "Loading model from /home/Jay/Notebooks/Group9_emotion_detection/torchMoji/model/pytorch_model.bin.\n",
      "TorchMoji(\n",
      "  (embed): Embedding(50000, 256)\n",
      "  (embed_dropout): Dropout2d(p=0)\n",
      "  (lstm_0): LSTMHardSigmoid(256, 512, batch_first=True, bidirectional=True)\n",
      "  (lstm_1): LSTMHardSigmoid(1024, 512, batch_first=True, bidirectional=True)\n",
      "  (attention_layer): Attention(2304, return attention=False)\n",
      "  (final_dropout): Dropout(p=0)\n",
      "  (output_layer): Sequential(\n",
      "    (0): Linear(in_features=2304, out_features=64, bias=True)\n",
      "    (1): Softmax()\n",
      "  )\n",
      ")\n",
      "Running predictions.\n"
     ]
    }
   ],
   "source": [
    "emoji_test_all = np.c_[encode_emoji(test_x1),encode_emoji(test_x2),encode_emoji(test_x3)]"
   ]
  },
  {
   "cell_type": "markdown",
   "metadata": {},
   "source": [
    "### Dataset"
   ]
  },
  {
   "cell_type": "code",
   "execution_count": 11,
   "metadata": {},
   "outputs": [],
   "source": [
    "categories, category_counts = np.unique(y,return_counts=True)"
   ]
  },
  {
   "cell_type": "code",
   "execution_count": 12,
   "metadata": {},
   "outputs": [
    {
     "data": {
      "text/plain": [
       "['others', 'happy', 'sad', 'angry']"
      ]
     },
     "execution_count": 12,
     "metadata": {},
     "output_type": "execute_result"
    }
   ],
   "source": [
    "tokens = [v for k,v in label2emotion.items()]\n",
    "tokens"
   ]
  },
  {
   "cell_type": "code",
   "execution_count": 13,
   "metadata": {},
   "outputs": [
    {
     "data": {
      "text/plain": [
       "<BarContainer object of 4 artists>"
      ]
     },
     "execution_count": 13,
     "metadata": {},
     "output_type": "execute_result"
    },
    {
     "data": {
      "image/png": "[encoded data removed]",
      "text/plain": [
       "<Figure size 432x288 with 1 Axes>"
      ]
     },
     "metadata": {
      "needs_background": "light"
     },
     "output_type": "display_data"
    }
   ],
   "source": [
    "plt.bar(categories,category_counts,tick_label=tokens,align='center')"
   ]
  },
  {
   "cell_type": "code",
   "execution_count": 14,
   "metadata": {},
   "outputs": [
    {
     "data": {
      "text/plain": [
       "array([14948,  4243,  5463,  5506])"
      ]
     },
     "execution_count": 14,
     "metadata": {},
     "output_type": "execute_result"
    }
   ],
   "source": [
    "category_counts"
   ]
  },
  {
   "cell_type": "code",
   "execution_count": 15,
   "metadata": {},
   "outputs": [],
   "source": [
    "y=np.array(y)\n",
    "idx_others=np.where(y==0)[0]"
   ]
  },
  {
   "cell_type": "code",
   "execution_count": 16,
   "metadata": {},
   "outputs": [],
   "source": [
    "idx = np.r_[np.where(y==1)[0],np.where(y==2)[0],np.where(y==3)[0]]"
   ]
  },
  {
   "cell_type": "code",
   "execution_count": 17,
   "metadata": {},
   "outputs": [
    {
     "data": {
      "text/plain": [
       "(15212,)"
      ]
     },
     "execution_count": 17,
     "metadata": {},
     "output_type": "execute_result"
    }
   ],
   "source": [
    "idx.shape"
   ]
  },
  {
   "cell_type": "code",
   "execution_count": 44,
   "metadata": {},
   "outputs": [],
   "source": [
    "deepmoji_train = deepmoji_train_all[idx]\n",
    "emoji_train = emoji_train_all[idx]\n",
    "y_train = y[idx]"
   ]
  },
  {
   "cell_type": "code",
   "execution_count": 45,
   "metadata": {},
   "outputs": [
    {
     "data": {
      "text/plain": [
       "(832,)"
      ]
     },
     "execution_count": 45,
     "metadata": {},
     "output_type": "execute_result"
    }
   ],
   "source": [
    "test_y_all = np.array(test_y_all)\n",
    "idx_test = np.r_[np.where(test_y_all==1)[0],np.where(test_y_all==2)[0],np.where(test_y_all==3)[0]]\n",
    "idx_test.shape"
   ]
  },
  {
   "cell_type": "code",
   "execution_count": 46,
   "metadata": {},
   "outputs": [],
   "source": [
    "test_y_all = np.array(test_y_all)\n",
    "test_y = test_y_all[idx_test]\n",
    "deepmoji_test = deepmoji_test_all[idx_test]\n",
    "emoji_test = emoji_test_all[idx_test]"
   ]
  },
  {
   "cell_type": "code",
   "execution_count": 28,
   "metadata": {},
   "outputs": [],
   "source": [
    "categories_t, category_counts_t = np.unique(test_y,return_counts=True)"
   ]
  },
  {
   "cell_type": "code",
   "execution_count": 29,
   "metadata": {},
   "outputs": [
    {
     "data": {
      "text/plain": [
       "<BarContainer object of 3 artists>"
      ]
     },
     "execution_count": 29,
     "metadata": {},
     "output_type": "execute_result"
    },
    {
     "data": {
      "image/png": "[encoded data removed]",
      "text/plain": [
       "<Figure size 432x288 with 1 Axes>"
      ]
     },
     "metadata": {
      "needs_background": "light"
     },
     "output_type": "display_data"
    }
   ],
   "source": [
    "plt.bar(categories_t,category_counts_t,tick_label=tokens[1:],align='center')"
   ]
  },
  {
   "cell_type": "code",
   "execution_count": 30,
   "metadata": {},
   "outputs": [
    {
     "data": {
      "text/plain": [
       "array([284, 250, 298])"
      ]
     },
     "execution_count": 30,
     "metadata": {},
     "output_type": "execute_result"
    }
   ],
   "source": [
    "category_counts_t"
   ]
  },
  {
   "cell_type": "code",
   "execution_count": 31,
   "metadata": {},
   "outputs": [],
   "source": [
    "from sklearn import metrics, svm\n",
    "from sklearn.naive_bayes import MultinomialNB\n",
    "from sklearn.preprocessing import MinMaxScaler\n",
    "from sklearn.pipeline import Pipeline\n",
    "import itertools\n",
    "from sklearn.linear_model import LogisticRegression"
   ]
  },
  {
   "cell_type": "code",
   "execution_count": 1,
   "metadata": {},
   "outputs": [
    {
     "ename": "NameError",
     "evalue": "name 'plt' is not defined",
     "output_type": "error",
     "traceback": [
      "\u001b[0;31m---------------------------------------------------------------------------\u001b[0m",
      "\u001b[0;31mNameError\u001b[0m                                 Traceback (most recent call last)",
      "\u001b[0;32m<ipython-input-1-e14ebaf8a85e>\u001b[0m in \u001b[0;36m<module>\u001b[0;34m\u001b[0m\n\u001b[1;32m      2\u001b[0m                           \u001b[0mnormalize\u001b[0m\u001b[0;34m=\u001b[0m\u001b[0;32mFalse\u001b[0m\u001b[0;34m,\u001b[0m\u001b[0;34m\u001b[0m\u001b[0m\n\u001b[1;32m      3\u001b[0m                           \u001b[0mtitle\u001b[0m\u001b[0;34m=\u001b[0m\u001b[0;34m'Confusion matrix'\u001b[0m\u001b[0;34m,\u001b[0m\u001b[0;34m\u001b[0m\u001b[0m\n\u001b[0;32m----> 4\u001b[0;31m                           cmap=plt.cm.Blues):\n\u001b[0m\u001b[1;32m      5\u001b[0m     \"\"\"\n\u001b[1;32m      6\u001b[0m     \u001b[0mThis\u001b[0m \u001b[0mfunction\u001b[0m \u001b[0mprints\u001b[0m \u001b[0;32mand\u001b[0m \u001b[0mplots\u001b[0m \u001b[0mthe\u001b[0m \u001b[0mconfusion\u001b[0m \u001b[0mmatrix\u001b[0m\u001b[0;34m.\u001b[0m\u001b[0;34m\u001b[0m\u001b[0m\n",
      "\u001b[0;31mNameError\u001b[0m: name 'plt' is not defined"
     ]
    }
   ],
   "source": [
    "def plot_confusion_matrix(cm, classes,\n",
    "                          normalize=False,\n",
    "                          title='Confusion matrix',\n",
    "                          cmap=plt.cm.Blues):\n",
    "    \"\"\"\n",
    "    This function prints and plots the confusion matrix.\n",
    "    Normalization can be applied by setting `normalize=True`.\n",
    "    \"\"\"\n",
    "    plt.figure()\n",
    "    if normalize:\n",
    "        cm = cm.astype('float') / cm.sum(axis=1)[:, np.newaxis]\n",
    "        print(\"Normalized confusion matrix\")\n",
    "    else:\n",
    "        print('Confusion matrix, without normalization')\n",
    "\n",
    "    print(cm)\n",
    "\n",
    "    plt.imshow(cm, interpolation='nearest', cmap=cmap)\n",
    "    plt.title(title)\n",
    "    plt.colorbar()\n",
    "    tick_marks = np.arange(len(classes))\n",
    "    plt.xticks(tick_marks, classes, rotation=45)\n",
    "    plt.yticks(tick_marks, classes)\n",
    "\n",
    "    fmt = '.2f' if normalize else 'd'\n",
    "    thresh = cm.max() / 2.\n",
    "    for i, j in itertools.product(range(cm.shape[0]), range(cm.shape[1])):\n",
    "        plt.text(j, i, format(cm[i, j], fmt),\n",
    "                 horizontalalignment=\"center\",\n",
    "                 color=\"white\" if cm[i, j] > thresh else \"black\")\n",
    "\n",
    "    plt.ylabel('True label')\n",
    "    plt.xlabel('Predicted label')\n",
    "    plt.tight_layout()\n",
    "\n",
    "def print_metrics(mc_prediction, test_y = test_y):\n",
    "    print(metrics.classification_report(test_y, mc_prediction, target_names=tokens[1:]))\n",
    "    print(\"Accuracy:\", metrics.accuracy_score(test_y, mc_prediction))\n",
    "    print(\"Precision:\", metrics.precision_score(test_y, mc_prediction, average='micro'))\n",
    "    print(\"Recall:\", metrics.recall_score(test_y, mc_prediction, average='micro'))\n",
    "    print(\"F1 macro score: \", metrics.f1_score(test_y, mc_prediction, average='macro'))\n",
    "    print(\"F1 score: \", metrics.f1_score(test_y, mc_prediction, average='micro'))\n",
    "    #print(\"Confusion Matrix: \\n\", metrics.confusion_matrix(mc_Y_test, mc_prediction))\n",
    "    plot_confusion_matrix(metrics.confusion_matrix(test_y, mc_prediction), tokens[1:])"
   ]
  },
  {
   "cell_type": "markdown",
   "metadata": {},
   "source": [
    "### Logistic Regression"
   ]
  },
  {
   "cell_type": "code",
   "execution_count": 33,
   "metadata": {},
   "outputs": [
    {
     "data": {
      "text/plain": [
       "Pipeline(memory=None,\n",
       "     steps=[('scaler', MinMaxScaler(copy=True, feature_range=(0, 1))), ('clf', LogisticRegression(C=1.0, class_weight=None, dual=False, fit_intercept=True,\n",
       "          intercept_scaling=1, max_iter=100, multi_class='ovr', n_jobs=1,\n",
       "          penalty='l2', random_state=0, solver='liblinear', tol=0.0001,\n",
       "          verbose=0, warm_start=False))])"
      ]
     },
     "execution_count": 33,
     "metadata": {},
     "output_type": "execute_result"
    }
   ],
   "source": [
    "LR = Pipeline([('scaler', MinMaxScaler()), ('clf', LogisticRegression(random_state=0))])\n",
    "#LR = LogisticRegression(random_state=0)\n",
    "LR.fit(deepmoji_train, y_train) "
   ]
  },
  {
   "cell_type": "code",
   "execution_count": 34,
   "metadata": {},
   "outputs": [
    {
     "name": "stdout",
     "output_type": "stream",
     "text": [
      "             precision    recall  f1-score   support\n",
      "\n",
      "      happy       0.91      0.87      0.89       284\n",
      "        sad       0.88      0.85      0.86       250\n",
      "      angry       0.88      0.93      0.90       298\n",
      "\n",
      "avg / total       0.89      0.89      0.89       832\n",
      "\n",
      "Accuracy: 0.8882211538461539\n",
      "Precision: 0.8884265081972346\n",
      "Recall: 0.8860417808866622\n",
      "F1 score:  0.886749578222941\n",
      "Confusion matrix, without normalization\n",
      "[[248  18  18]\n",
      " [ 16 213  21]\n",
      " [  8  12 278]]\n"
     ]
    },
    {
     "data": {
      "image/png": "[encoded data removed]",
      "text/plain": [
       "<Figure size 432x288 with 2 Axes>"
      ]
     },
     "metadata": {
      "needs_background": "light"
     },
     "output_type": "display_data"
    }
   ],
   "source": [
    "print_metrics(LR.predict(deepmoji_test))"
   ]
  },
  {
   "cell_type": "code",
   "execution_count": 35,
   "metadata": {},
   "outputs": [
    {
     "name": "stdout",
     "output_type": "stream",
     "text": [
      "             precision    recall  f1-score   support\n",
      "\n",
      "      happy       0.91      0.89      0.90       284\n",
      "        sad       0.89      0.84      0.87       250\n",
      "      angry       0.88      0.94      0.91       298\n",
      "\n",
      "avg / total       0.89      0.89      0.89       832\n",
      "\n",
      "Accuracy: 0.8942307692307693\n",
      "Precision: 0.8950331406662059\n",
      "Recall: 0.8912660301855878\n",
      "F1 score:  0.8924417596752109\n",
      "Confusion matrix, without normalization\n",
      "[[253  14  17]\n",
      " [ 18 210  22]\n",
      " [  6  11 281]]\n"
     ]
    },
    {
     "data": {
      "image/png": "[encoded data removed]",
      "text/plain": [
       "<Figure size 432x288 with 2 Axes>"
      ]
     },
     "metadata": {
      "needs_background": "light"
     },
     "output_type": "display_data"
    }
   ],
   "source": [
    "LR = LogisticRegression(random_state=0)\n",
    "LR.fit(deepmoji_train, y_train) \n",
    "print_metrics(LR.predict(deepmoji_test))"
   ]
  },
  {
   "cell_type": "code",
   "execution_count": 47,
   "metadata": {},
   "outputs": [
    {
     "name": "stdout",
     "output_type": "stream",
     "text": [
      "             precision    recall  f1-score   support\n",
      "\n",
      "      happy       0.85      0.86      0.86       284\n",
      "        sad       0.83      0.77      0.80       250\n",
      "      angry       0.84      0.88      0.86       298\n",
      "\n",
      "avg / total       0.84      0.84      0.84       832\n",
      "\n",
      "Accuracy: 0.8401442307692307\n",
      "Precision: 0.8392602672839974\n",
      "Recall: 0.8366235624035038\n",
      "F1 score:  0.8374185897923648\n",
      "Confusion matrix, without normalization\n",
      "[[245  18  21]\n",
      " [ 30 192  28]\n",
      " [ 14  22 262]]\n"
     ]
    },
    {
     "data": {
      "image/png": "[encoded data removed]",
      "text/plain": [
       "<Figure size 432x288 with 2 Axes>"
      ]
     },
     "metadata": {
      "needs_background": "light"
     },
     "output_type": "display_data"
    }
   ],
   "source": [
    "LR = LogisticRegression(random_state=0).fit(emoji_train, y_train) \n",
    "print_metrics(LR.predict(emoji_test))"
   ]
  },
  {
   "cell_type": "markdown",
   "metadata": {},
   "source": [
    "### Naive Bayes"
   ]
  },
  {
   "cell_type": "code",
   "execution_count": 36,
   "metadata": {},
   "outputs": [
    {
     "name": "stdout",
     "output_type": "stream",
     "text": [
      "             precision    recall  f1-score   support\n",
      "\n",
      "      happy       0.82      0.86      0.84       284\n",
      "        sad       0.82      0.76      0.79       250\n",
      "      angry       0.86      0.87      0.87       298\n",
      "\n",
      "avg / total       0.83      0.83      0.83       832\n",
      "\n",
      "Accuracy: 0.8341346153846154\n",
      "Precision: 0.8331638288447962\n",
      "Recall: 0.8305460503513249\n",
      "F1 score:  0.8312457331325257\n",
      "Confusion matrix, without normalization\n",
      "[[244  21  19]\n",
      " [ 37 190  23]\n",
      " [ 18  20 260]]\n"
     ]
    },
    {
     "data": {
      "image/png": "[encoded data removed]",
      "text/plain": [
       "<Figure size 432x288 with 2 Axes>"
      ]
     },
     "metadata": {
      "needs_background": "light"
     },
     "output_type": "display_data"
    }
   ],
   "source": [
    "mc_nb = Pipeline([('scaler', MinMaxScaler()), ('clf', MultinomialNB())])\n",
    "mc_nb.fit(deepmoji_train, y_train)\n",
    "print_metrics(mc_nb.predict(deepmoji_test))"
   ]
  },
  {
   "cell_type": "code",
   "execution_count": 48,
   "metadata": {},
   "outputs": [
    {
     "name": "stdout",
     "output_type": "stream",
     "text": [
      "             precision    recall  f1-score   support\n",
      "\n",
      "      happy       0.81      0.73      0.77       284\n",
      "        sad       0.80      0.74      0.77       250\n",
      "      angry       0.74      0.86      0.80       298\n",
      "\n",
      "avg / total       0.78      0.78      0.78       832\n",
      "\n",
      "Accuracy: 0.7800480769230769\n",
      "Precision: 0.785091522157996\n",
      "Recall: 0.7769368245265779\n",
      "F1 score:  0.77839122766659\n",
      "Confusion matrix, without normalization\n",
      "[[208  23  53]\n",
      " [ 30 184  36]\n",
      " [ 18  23 257]]\n"
     ]
    },
    {
     "data": {
      "image/png": "[encoded data removed]",
      "text/plain": [
       "<Figure size 432x288 with 2 Axes>"
      ]
     },
     "metadata": {
      "needs_background": "light"
     },
     "output_type": "display_data"
    }
   ],
   "source": [
    "mc_nb = Pipeline([('clf', MultinomialNB())])\n",
    "mc_nb.fit(emoji_train, y_train)\n",
    "print_metrics(mc_nb.predict(emoji_test))"
   ]
  },
  {
   "cell_type": "markdown",
   "metadata": {},
   "source": [
    "### SVM - One vs One"
   ]
  },
  {
   "cell_type": "code",
   "execution_count": 49,
   "metadata": {},
   "outputs": [
    {
     "name": "stdout",
     "output_type": "stream",
     "text": [
      "             precision    recall  f1-score   support\n",
      "\n",
      "      happy       0.88      0.89      0.89       284\n",
      "        sad       0.82      0.79      0.80       250\n",
      "      angry       0.85      0.88      0.86       298\n",
      "\n",
      "avg / total       0.85      0.85      0.85       832\n",
      "\n",
      "Accuracy: 0.8533653846153846\n",
      "Precision: 0.8515263628928312\n",
      "Recall: 0.8503876232788228\n",
      "F1 score:  0.8508156338568841\n",
      "Confusion matrix, without normalization\n",
      "[[252  18  14]\n",
      " [ 22 197  31]\n",
      " [ 11  26 261]]\n"
     ]
    },
    {
     "data": {
      "image/png": "[encoded data removed]",
      "text/plain": [
       "<Figure size 432x288 with 2 Axes>"
      ]
     },
     "metadata": {
      "needs_background": "light"
     },
     "output_type": "display_data"
    }
   ],
   "source": [
    "mc_svm_ovo = svm.SVC(decision_function_shape='ovo', kernel='linear', C=100)\n",
    "\n",
    "mc_svm_ovo.fit(emoji_train, y_train)\n",
    "print_metrics(mc_svm_ovo.predict(emoji_test))"
   ]
  },
  {
   "cell_type": "markdown",
   "metadata": {},
   "source": [
    "### SVM One vs Rest"
   ]
  },
  {
   "cell_type": "code",
   "execution_count": 50,
   "metadata": {},
   "outputs": [
    {
     "name": "stdout",
     "output_type": "stream",
     "text": [
      "             precision    recall  f1-score   support\n",
      "\n",
      "      happy       0.88      0.89      0.89       284\n",
      "        sad       0.82      0.79      0.80       250\n",
      "      angry       0.85      0.88      0.86       298\n",
      "\n",
      "avg / total       0.85      0.85      0.85       832\n",
      "\n",
      "Accuracy: 0.8533653846153846\n",
      "Precision: 0.8515263628928312\n",
      "Recall: 0.8503876232788228\n",
      "F1 score:  0.8508156338568841\n",
      "Confusion matrix, without normalization\n",
      "[[252  18  14]\n",
      " [ 22 197  31]\n",
      " [ 11  26 261]]\n"
     ]
    },
    {
     "data": {
      "image/png": "[encoded data removed]",
      "text/plain": [
       "<Figure size 432x288 with 2 Axes>"
      ]
     },
     "metadata": {
      "needs_background": "light"
     },
     "output_type": "display_data"
    }
   ],
   "source": [
    "mc_svm_ovr = svm.SVC(decision_function_shape='ovr', kernel='linear', C=100)\n",
    "mc_svm_ovr.fit(emoji_train, y_train)\n",
    "print_metrics(mc_svm_ovr.predict(emoji_test))"
   ]
  },
  {
   "cell_type": "code",
   "execution_count": null,
   "metadata": {},
   "outputs": [],
   "source": []
  }
 ],
 "metadata": {
  "kernelspec": {
   "display_name": "Python 3",
   "language": "python",
   "name": "python3"
  },
  "language_info": {
   "codemirror_mode": {
    "name": "ipython",
    "version": 3
   },
   "file_extension": ".py",
   "mimetype": "text/x-python",
   "name": "python",
   "nbconvert_exporter": "python",
   "pygments_lexer": "ipython3",
   "version": "3.5.2"
  }
 },
 "nbformat": 4,
 "nbformat_minor": 2
}
