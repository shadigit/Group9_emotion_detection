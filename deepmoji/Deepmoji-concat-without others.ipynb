{
 "cells": [
  {
   "cell_type": "code",
   "execution_count": 1,
   "metadata": {},
   "outputs": [],
   "source": [
    "import numpy as np\n",
    "import pandas as pd\n",
    "from ekphrasis.classes.preprocessor import TextPreProcessor\n",
    "from ekphrasis.classes.tokenizer import SocialTokenizer\n",
    "from ekphrasis.dicts.emoticons import emoticons\n",
    "import matplotlib.pyplot as plt\n",
    "\n",
    "from sys import path as pylib #im naming it as pylib so that we won't get confused between os.path and sys.path \n",
    "import os\n",
    "pylib += [os.path.abspath(r'/home/Jay/Notebooks/Group9_emotion_detection/torchMoji')]"
   ]
  },
  {
   "cell_type": "code",
   "execution_count": 2,
   "metadata": {},
   "outputs": [],
   "source": [
    "data = pd.read_csv('../../deepmoji/data/train.txt', sep = '\\t')"
   ]
  },
  {
   "cell_type": "code",
   "execution_count": 3,
   "metadata": {},
   "outputs": [
    {
     "name": "stdout",
     "output_type": "stream",
     "text": [
      "Reading twitter - 1grams ...\n",
      "Reading twitter - 2grams ...\n",
      "Reading twitter - 1grams ...\n"
     ]
    }
   ],
   "source": [
    "label2emotion = {0: \"others\", 1: \"happy\", 2: \"sad\", 3: \"angry\"}\n",
    "emotion2label = {\"others\": 0, \"happy\": 1, \"sad\": 2, \"angry\": 3}\n",
    "\n",
    "emoticons_additional = {\n",
    "    '(^・^)': '<happy>', ':‑c': '<sad>', '=‑d': '<happy>', \":'‑)\": '<happy>', ':‑d': '<laugh>',\n",
    "    ':‑(': '<sad>', ';‑)': '<happy>', ':‑)': '<happy>', ':\\\\/': '<sad>', 'd=<': '<annoyed>',\n",
    "    ':‑/': '<annoyed>', ';‑]': '<happy>', '(^�^)': '<happy>', 'angru': 'angry', \"d‑':\":\n",
    "        '<annoyed>', \":'‑(\": '<sad>', \":‑[\": '<annoyed>', '(�?�)': '<happy>', 'x‑d': '<laugh>',\n",
    "}\n",
    "\n",
    "text_processor = TextPreProcessor(\n",
    "    # terms that will be normalized\n",
    "    normalize=['url', 'email', 'percent', 'money', 'phone', 'user',\n",
    "               'time', 'url', 'date', 'number'],\n",
    "    # terms that will be annotated\n",
    "    annotate={\"hashtag\", \"allcaps\", \"elongated\", \"repeated\",\n",
    "              'emphasis', 'censored'},\n",
    "    fix_html=True,  # fix HTML tokens\n",
    "    # corpus from which the word statistics are going to be used \n",
    "    # for word segmentation \n",
    "    segmenter=\"twitter\",\n",
    "    # corpus from which the word statistics are going to be used \n",
    "    # for spell correction\n",
    "    corrector=\"twitter\",\n",
    "    unpack_hashtags=True,  # perform word segmentation on hashtags\n",
    "    unpack_contractions=True,  # Unpack contractions (can't -> can not)\n",
    "    spell_correct_elong=True,  # spell correction for elongated words\n",
    "    # select a tokenizer. You can use SocialTokenizer, or pass your own\n",
    "    # the tokenizer, should take as input a string and return a list of tokens\n",
    "    tokenizer=SocialTokenizer(lowercase=True).tokenize,\n",
    "    # list of dictionaries, for replacing tokens extracted from the text,\n",
    "    # with other expressions. You can pass more than one dictionaries.\n",
    "    dicts=[emoticons, emoticons_additional]\n",
    ")\n",
    "\n",
    "\n",
    "def tokenize(text):\n",
    "    text = \" \".join(text_processor.pre_process_doc(text))\n",
    "    return text"
   ]
  },
  {
   "cell_type": "markdown",
   "metadata": {},
   "source": [
    "### Load raw data"
   ]
  },
  {
   "cell_type": "code",
   "execution_count": 60,
   "metadata": {},
   "outputs": [],
   "source": [
    "x=[]\n",
    "y=[]\n",
    "for ind, row in data.iterrows():\n",
    "    y.append(emotion2label[row['label']])\n",
    "    x.append(tokenize(row['turn1'])+' <eos> '+tokenize(row['turn2']) + ' <eos> '+tokenize(row['turn3']))"
   ]
  },
  {
   "cell_type": "code",
   "execution_count": 72,
   "metadata": {},
   "outputs": [],
   "source": [
    "test_data = pd.read_csv('../../deepmoji/data/test.txt', sep = '\\t')\n",
    "test_x = []\n",
    "test_y_all=[]\n",
    "for ind, row in test_data.iterrows():\n",
    "    test_y_all.append(emotion2label[row['label']])\n",
    "    test_x.append(tokenize(row['turn1'])+' <eos> '+tokenize(row['turn2']) + ' <eos> '+tokenize(row['turn3']))"
   ]
  },
  {
   "cell_type": "code",
   "execution_count": 10,
   "metadata": {},
   "outputs": [],
   "source": [
    "from __future__ import print_function, division, unicode_literals\n",
    "import json\n",
    "\n",
    "from torchmoji.sentence_tokenizer import SentenceTokenizer\n",
    "from torchmoji.model_def import torchmoji_feature_encoding\n",
    "from torchmoji.model_def import torchmoji_emojis\n",
    "from torchmoji.global_variables import PRETRAINED_PATH, VOCAB_PATH\n",
    "\n",
    "def encode_deepmoji(x):\n",
    "    maxlen = 30\n",
    "    batch_size = 32\n",
    "\n",
    "    print('Tokenizing using dictionary from {}'.format(VOCAB_PATH))\n",
    "    with open(VOCAB_PATH, 'r') as f:\n",
    "        vocabulary = json.load(f)\n",
    "    st = SentenceTokenizer(vocabulary, maxlen)\n",
    "    tokenized, _, _ = st.tokenize_sentences(x)\n",
    "    print('Loading model from {}.'.format(PRETRAINED_PATH))\n",
    "    model = torchmoji_feature_encoding(PRETRAINED_PATH)\n",
    "    print(model)\n",
    "    print('Encoding texts..')\n",
    "    encoding = np.zeros((len(x), 2304))\n",
    "    for i in range(0, len(x), 300):    \n",
    "        encoding[i:i+300] = model(tokenized[i:i+300])\n",
    "    return encoding\n",
    "\n",
    "def encode_emoji(x):\n",
    "    model = torchmoji_emojis(PRETRAINED_PATH)\n",
    "    maxlen = 30\n",
    "    batch_size = 32\n",
    "\n",
    "    print('Tokenizing using dictionary from {}'.format(VOCAB_PATH))\n",
    "    with open(VOCAB_PATH, 'r') as f:\n",
    "        vocabulary = json.load(f)\n",
    "    st = SentenceTokenizer(vocabulary, maxlen)\n",
    "    tokenized, _, _ = st.tokenize_sentences(x)\n",
    "    print('Loading model from {}.'.format(PRETRAINED_PATH))\n",
    "    print(model)\n",
    "    print('Running predictions.')\n",
    "    \n",
    "    encoding = np.zeros((len(x), 64))\n",
    "    for i in range(0, len(x), 300):    \n",
    "        encoding[i:i+300] = model(tokenized[i:i+300])\n",
    "    return encoding"
   ]
  },
  {
   "cell_type": "markdown",
   "metadata": {},
   "source": [
    "### Load saved vectors"
   ]
  },
  {
   "cell_type": "code",
   "execution_count": 11,
   "metadata": {},
   "outputs": [],
   "source": [
    "x_vec = np.load('../../dm_emb/deepmoji_train_x.npy')\n",
    "test_x_vec = np.load('../../dm_emb/deepmoji_test_x.npy')"
   ]
  },
  {
   "cell_type": "code",
   "execution_count": 12,
   "metadata": {},
   "outputs": [
    {
     "name": "stdout",
     "output_type": "stream",
     "text": [
      "(30160, 2304)\n",
      "(5509, 2304)\n"
     ]
    }
   ],
   "source": [
    "print(x_vec.shape)\n",
    "print(test_x_vec.shape)"
   ]
  },
  {
   "cell_type": "code",
   "execution_count": null,
   "metadata": {},
   "outputs": [],
   "source": [
    "emoji_all = encode_emoji(x)"
   ]
  },
  {
   "cell_type": "code",
   "execution_count": 73,
   "metadata": {},
   "outputs": [
    {
     "name": "stdout",
     "output_type": "stream",
     "text": [
      "Tokenizing using dictionary from /home/Jay/Notebooks/Group9_emotion_detection/torchMoji/model/vocabulary.json\n",
      "Loading model from /home/Jay/Notebooks/Group9_emotion_detection/torchMoji/model/pytorch_model.bin.\n",
      "TorchMoji(\n",
      "  (embed): Embedding(50000, 256)\n",
      "  (embed_dropout): Dropout2d(p=0)\n",
      "  (lstm_0): LSTMHardSigmoid(256, 512, batch_first=True, bidirectional=True)\n",
      "  (lstm_1): LSTMHardSigmoid(1024, 512, batch_first=True, bidirectional=True)\n",
      "  (attention_layer): Attention(2304, return attention=False)\n",
      "  (final_dropout): Dropout(p=0)\n",
      "  (output_layer): Sequential(\n",
      "    (0): Linear(in_features=2304, out_features=64, bias=True)\n",
      "    (1): Softmax()\n",
      "  )\n",
      ")\n",
      "Running predictions.\n"
     ]
    },
    {
     "name": "stderr",
     "output_type": "stream",
     "text": [
      "/home/Jay/dev32/lib/python3.5/site-packages/torch/nn/modules/container.py:67: UserWarning: Implicit dimension choice for softmax has been deprecated. Change the call to include dim=X as an argument.\n",
      "  input = module(input)\n"
     ]
    }
   ],
   "source": [
    "emoji_test_all = encode_emoji(test_x)"
   ]
  },
  {
   "cell_type": "code",
   "execution_count": 74,
   "metadata": {},
   "outputs": [
    {
     "data": {
      "text/plain": [
       "['others', 'happy', 'sad', 'angry']"
      ]
     },
     "execution_count": 74,
     "metadata": {},
     "output_type": "execute_result"
    }
   ],
   "source": [
    "tokens = [v for k,v in label2emotion.items()]\n",
    "tokens"
   ]
  },
  {
   "cell_type": "code",
   "execution_count": 64,
   "metadata": {},
   "outputs": [],
   "source": [
    "y=np.array(y)\n",
    "idx_others=np.where(y==0)[0]"
   ]
  },
  {
   "cell_type": "code",
   "execution_count": 75,
   "metadata": {},
   "outputs": [],
   "source": [
    "idx = np.r_[np.where(y==1)[0],np.where(y==2)[0],np.where(y==3)[0]]"
   ]
  },
  {
   "cell_type": "code",
   "execution_count": 76,
   "metadata": {},
   "outputs": [
    {
     "data": {
      "text/plain": [
       "(15212,)"
      ]
     },
     "execution_count": 76,
     "metadata": {},
     "output_type": "execute_result"
    }
   ],
   "source": [
    "idx.shape"
   ]
  },
  {
   "cell_type": "code",
   "execution_count": 77,
   "metadata": {},
   "outputs": [],
   "source": [
    "deepmoji_train = x_vec[idx]\n",
    "y_train = y[idx]\n",
    "emoji_train = emoji_all[idx]"
   ]
  },
  {
   "cell_type": "code",
   "execution_count": 92,
   "metadata": {},
   "outputs": [
    {
     "data": {
      "text/plain": [
       "(832,)"
      ]
     },
     "execution_count": 92,
     "metadata": {},
     "output_type": "execute_result"
    }
   ],
   "source": [
    "idx_test = np.r_[np.where(test_y_all==1)[0],np.where(test_y_all==2)[0],np.where(test_y_all==3)[0]]\n",
    "idx_test.shape"
   ]
  },
  {
   "cell_type": "code",
   "execution_count": 93,
   "metadata": {},
   "outputs": [],
   "source": [
    "test_y_all = np.array(test_y_all)\n",
    "test_y = test_y_all[idx_test]\n",
    "deepmoji_test = test_x_vec[idx_test]\n",
    "emoji_test = emoji_test_all[idx_test]"
   ]
  },
  {
   "cell_type": "markdown",
   "metadata": {},
   "source": [
    "### Models"
   ]
  },
  {
   "cell_type": "code",
   "execution_count": 21,
   "metadata": {},
   "outputs": [],
   "source": [
    "from sklearn import metrics, svm\n",
    "from sklearn.naive_bayes import MultinomialNB\n",
    "from sklearn.preprocessing import MinMaxScaler\n",
    "from sklearn.pipeline import Pipeline\n",
    "import itertools\n",
    "from sklearn.linear_model import LogisticRegression"
   ]
  },
  {
   "cell_type": "code",
   "execution_count": 22,
   "metadata": {},
   "outputs": [],
   "source": [
    "def plot_confusion_matrix(cm, classes,\n",
    "                          normalize=False,\n",
    "                          title='Confusion matrix',\n",
    "                          cmap=plt.cm.Blues):\n",
    "    \"\"\"\n",
    "    This function prints and plots the confusion matrix.\n",
    "    Normalization can be applied by setting `normalize=True`.\n",
    "    \"\"\"\n",
    "    plt.figure()\n",
    "    if normalize:\n",
    "        cm = cm.astype('float') / cm.sum(axis=1)[:, np.newaxis]\n",
    "        print(\"Normalized confusion matrix\")\n",
    "    else:\n",
    "        print('Confusion matrix, without normalization')\n",
    "\n",
    "    print(cm)\n",
    "\n",
    "    plt.imshow(cm, interpolation='nearest', cmap=cmap)\n",
    "    plt.title(title)\n",
    "    plt.colorbar()\n",
    "    tick_marks = np.arange(len(classes))\n",
    "    plt.xticks(tick_marks, classes, rotation=45)\n",
    "    plt.yticks(tick_marks, classes)\n",
    "\n",
    "    fmt = '.2f' if normalize else 'd'\n",
    "    thresh = cm.max() / 2.\n",
    "    for i, j in itertools.product(range(cm.shape[0]), range(cm.shape[1])):\n",
    "        plt.text(j, i, format(cm[i, j], fmt),\n",
    "                 horizontalalignment=\"center\",\n",
    "                 color=\"white\" if cm[i, j] > thresh else \"black\")\n",
    "\n",
    "    plt.ylabel('True label')\n",
    "    plt.xlabel('Predicted label')\n",
    "    plt.tight_layout()\n",
    "\n",
    "def print_metrics(mc_prediction):\n",
    "    print(metrics.classification_report(test_y, mc_prediction, target_names=tokens[1:]))\n",
    "    print(\"Accuracy:\", metrics.accuracy_score(test_y, mc_prediction))\n",
    "    print(\"Precision:\", metrics.precision_score(test_y, mc_prediction, average='macro'))\n",
    "    print(\"Recall:\", metrics.recall_score(test_y, mc_prediction, average='macro'))\n",
    "    print(\"F1 score: \", metrics.f1_score(test_y, mc_prediction, average='macro'))\n",
    "    #print(\"Confusion Matrix: \\n\", metrics.confusion_matrix(mc_Y_test, mc_prediction))\n",
    "    plot_confusion_matrix(metrics.confusion_matrix(test_y, mc_prediction), tokens[1:])"
   ]
  },
  {
   "cell_type": "markdown",
   "metadata": {},
   "source": [
    "### Logistic Regression"
   ]
  },
  {
   "cell_type": "code",
   "execution_count": 105,
   "metadata": {},
   "outputs": [
    {
     "data": {
      "text/plain": [
       "Pipeline(memory=None,\n",
       "     steps=[('scaler', MinMaxScaler(copy=True, feature_range=(0, 1))), ('clf', LogisticRegression(C=1.0, class_weight=None, dual=False, fit_intercept=True,\n",
       "          intercept_scaling=1, max_iter=100, multi_class='ovr', n_jobs=1,\n",
       "          penalty='l2', random_state=0, solver='liblinear', tol=0.0001,\n",
       "          verbose=0, warm_start=False))])"
      ]
     },
     "execution_count": 105,
     "metadata": {},
     "output_type": "execute_result"
    }
   ],
   "source": [
    "LR = Pipeline([('scaler', MinMaxScaler()), ('clf', LogisticRegression(random_state=0))])\n",
    "#LR = LogisticRegression(random_state=0)\n",
    "LR.fit(deepmoji_train, y_train) "
   ]
  },
  {
   "cell_type": "code",
   "execution_count": 106,
   "metadata": {},
   "outputs": [
    {
     "name": "stdout",
     "output_type": "stream",
     "text": [
      "             precision    recall  f1-score   support\n",
      "\n",
      "      happy       0.85      0.86      0.85       284\n",
      "        sad       0.83      0.79      0.81       250\n",
      "      angry       0.86      0.89      0.87       298\n",
      "\n",
      "avg / total       0.85      0.85      0.85       832\n",
      "\n",
      "Accuracy: 0.8485576923076923\n",
      "Precision: 0.847324244383068\n",
      "Recall: 0.8456318492611148\n",
      "F1 score:  0.8462314825097695\n",
      "Confusion matrix, without normalization\n",
      "[[243  24  17]\n",
      " [ 26 198  26]\n",
      " [ 17  16 265]]\n"
     ]
    },
    {
     "data": {
      "image/png": "[encoded data removed]",
      "text/plain": [
       "<Figure size 432x288 with 2 Axes>"
      ]
     },
     "metadata": {
      "needs_background": "light"
     },
     "output_type": "display_data"
    }
   ],
   "source": [
    "print_metrics(LR.predict(deepmoji_test))"
   ]
  },
  {
   "cell_type": "code",
   "execution_count": 107,
   "metadata": {},
   "outputs": [
    {
     "name": "stdout",
     "output_type": "stream",
     "text": [
      "             precision    recall  f1-score   support\n",
      "\n",
      "      happy       0.86      0.85      0.86       284\n",
      "        sad       0.83      0.79      0.81       250\n",
      "      angry       0.85      0.90      0.87       298\n",
      "\n",
      "avg / total       0.85      0.85      0.85       832\n",
      "\n",
      "Accuracy: 0.8485576923076923\n",
      "Precision: 0.8475232124456299\n",
      "Recall: 0.8455215678860636\n",
      "F1 score:  0.8461642856171189\n",
      "Confusion matrix, without normalization\n",
      "[[241  24  19]\n",
      " [ 24 198  28]\n",
      " [ 14  17 267]]\n"
     ]
    },
    {
     "data": {
      "image/png": "[encoded data removed]",
      "text/plain": [
       "<Figure size 432x288 with 2 Axes>"
      ]
     },
     "metadata": {
      "needs_background": "light"
     },
     "output_type": "display_data"
    }
   ],
   "source": [
    "LR = LogisticRegression(random_state=0)\n",
    "LR.fit(deepmoji_train, y_train) \n",
    "print_metrics(LR.predict(deepmoji_test))"
   ]
  },
  {
   "cell_type": "code",
   "execution_count": 108,
   "metadata": {},
   "outputs": [
    {
     "name": "stdout",
     "output_type": "stream",
     "text": [
      "             precision    recall  f1-score   support\n",
      "\n",
      "      happy       0.71      0.88      0.79       284\n",
      "        sad       0.80      0.60      0.69       250\n",
      "      angry       0.77      0.75      0.76       298\n",
      "\n",
      "avg / total       0.76      0.75      0.75       832\n",
      "\n",
      "Accuracy: 0.7512019230769231\n",
      "Precision: 0.7598692148474174\n",
      "Recall: 0.7453749881841384\n",
      "F1 score:  0.7448521778531143\n",
      "Confusion matrix, without normalization\n",
      "[[251  11  22]\n",
      " [ 55 151  44]\n",
      " [ 48  27 223]]\n"
     ]
    },
    {
     "data": {
      "image/png": "[encoded data removed]",
      "text/plain": [
       "<Figure size 432x288 with 2 Axes>"
      ]
     },
     "metadata": {
      "needs_background": "light"
     },
     "output_type": "display_data"
    }
   ],
   "source": [
    "LR = LogisticRegression(random_state=0).fit(emoji_train, y_train) \n",
    "print_metrics(LR.predict(emoji_test))"
   ]
  },
  {
   "cell_type": "markdown",
   "metadata": {},
   "source": [
    "### Naive Bayes"
   ]
  },
  {
   "cell_type": "code",
   "execution_count": 109,
   "metadata": {},
   "outputs": [
    {
     "name": "stdout",
     "output_type": "stream",
     "text": [
      "             precision    recall  f1-score   support\n",
      "\n",
      "      happy       0.82      0.85      0.83       284\n",
      "        sad       0.81      0.70      0.75       250\n",
      "      angry       0.80      0.86      0.83       298\n",
      "\n",
      "avg / total       0.81      0.81      0.81       832\n",
      "\n",
      "Accuracy: 0.8076923076923077\n",
      "Precision: 0.8078003988249908\n",
      "Recall: 0.8024955099725872\n",
      "F1 score:  0.8034286873758187\n",
      "Confusion matrix, without normalization\n",
      "[[240  19  25]\n",
      " [ 36 175  39]\n",
      " [ 18  23 257]]\n"
     ]
    },
    {
     "data": {
      "image/png": "[encoded data removed]",
      "text/plain": [
       "<Figure size 432x288 with 2 Axes>"
      ]
     },
     "metadata": {
      "needs_background": "light"
     },
     "output_type": "display_data"
    }
   ],
   "source": [
    "mc_nb = Pipeline([('scaler', MinMaxScaler()), ('clf', MultinomialNB())])\n",
    "mc_nb.fit(deepmoji_train, y_train)\n",
    "print_metrics(mc_nb.predict(deepmoji_test))"
   ]
  },
  {
   "cell_type": "code",
   "execution_count": 110,
   "metadata": {},
   "outputs": [
    {
     "name": "stdout",
     "output_type": "stream",
     "text": [
      "             precision    recall  f1-score   support\n",
      "\n",
      "      happy       1.00      0.01      0.01       284\n",
      "        sad       0.47      0.72      0.57       250\n",
      "      angry       0.54      0.82      0.65       298\n",
      "\n",
      "avg / total       0.68      0.51      0.41       832\n",
      "\n",
      "Accuracy: 0.5108173076923077\n",
      "Precision: 0.6711051567219918\n",
      "Recall: 0.5139447332766172\n",
      "F1 score:  0.4115595957267206\n",
      "Confusion matrix, without normalization\n",
      "[[  2 146 136]\n",
      " [  0 179  71]\n",
      " [  0  54 244]]\n"
     ]
    },
    {
     "data": {
      "image/png": "[encoded data removed]",
      "text/plain": [
       "<Figure size 432x288 with 2 Axes>"
      ]
     },
     "metadata": {
      "needs_background": "light"
     },
     "output_type": "display_data"
    }
   ],
   "source": [
    "mc_nb = Pipeline([('clf', MultinomialNB())])\n",
    "mc_nb.fit(emoji_train, y_train)\n",
    "print_metrics(mc_nb.predict(emoji_test))"
   ]
  },
  {
   "cell_type": "markdown",
   "metadata": {},
   "source": [
    "### SVM - One vs One"
   ]
  },
  {
   "cell_type": "code",
   "execution_count": 111,
   "metadata": {},
   "outputs": [
    {
     "name": "stdout",
     "output_type": "stream",
     "text": [
      "             precision    recall  f1-score   support\n",
      "\n",
      "      happy       0.80      0.88      0.84       284\n",
      "        sad       0.79      0.72      0.75       250\n",
      "      angry       0.82      0.80      0.81       298\n",
      "\n",
      "avg / total       0.80      0.80      0.80       832\n",
      "\n",
      "Accuracy: 0.8040865384615384\n",
      "Precision: 0.8028775963177082\n",
      "Recall: 0.8008201783407379\n",
      "F1 score:  0.8006535311011765\n",
      "Confusion matrix, without normalization\n",
      "[[251  15  18]\n",
      " [ 36 180  34]\n",
      " [ 26  34 238]]\n"
     ]
    },
    {
     "data": {
      "image/png": "[encoded data removed]",
      "text/plain": [
       "<Figure size 432x288 with 2 Axes>"
      ]
     },
     "metadata": {
      "needs_background": "light"
     },
     "output_type": "display_data"
    }
   ],
   "source": [
    "mc_svm_ovo = svm.SVC(decision_function_shape='ovo', kernel='linear', C=100)\n",
    "\n",
    "mc_svm_ovo.fit(emoji_train, y_train)\n",
    "print_metrics(mc_svm_ovo.predict(emoji_test))"
   ]
  },
  {
   "cell_type": "markdown",
   "metadata": {},
   "source": [
    "### SVM One vs Rest"
   ]
  },
  {
   "cell_type": "code",
   "execution_count": 112,
   "metadata": {},
   "outputs": [
    {
     "name": "stdout",
     "output_type": "stream",
     "text": [
      "             precision    recall  f1-score   support\n",
      "\n",
      "      happy       0.80      0.88      0.84       284\n",
      "        sad       0.79      0.72      0.75       250\n",
      "      angry       0.82      0.80      0.81       298\n",
      "\n",
      "avg / total       0.80      0.80      0.80       832\n",
      "\n",
      "Accuracy: 0.8040865384615384\n",
      "Precision: 0.8028775963177082\n",
      "Recall: 0.8008201783407379\n",
      "F1 score:  0.8006535311011765\n",
      "Confusion matrix, without normalization\n",
      "[[251  15  18]\n",
      " [ 36 180  34]\n",
      " [ 26  34 238]]\n"
     ]
    },
    {
     "data": {
      "image/png": "[encoded data removed]",
      "text/plain": [
       "<Figure size 432x288 with 2 Axes>"
      ]
     },
     "metadata": {
      "needs_background": "light"
     },
     "output_type": "display_data"
    }
   ],
   "source": [
    "mc_svm_ovr = svm.SVC(decision_function_shape='ovr', kernel='linear', C=100)\n",
    "mc_svm_ovr.fit(emoji_train, y_train)\n",
    "print_metrics(mc_svm_ovr.predict(emoji_test))"
   ]
  },
  {
   "cell_type": "code",
   "execution_count": null,
   "metadata": {},
   "outputs": [],
   "source": []
  }
 ],
 "metadata": {
  "kernelspec": {
   "display_name": "Python 3",
   "language": "python",
   "name": "python3"
  },
  "language_info": {
   "codemirror_mode": {
    "name": "ipython",
    "version": 3
   },
   "file_extension": ".py",
   "mimetype": "text/x-python",
   "name": "python",
   "nbconvert_exporter": "python",
   "pygments_lexer": "ipython3",
   "version": "3.5.2"
  }
 },
 "nbformat": 4,
 "nbformat_minor": 2
}
